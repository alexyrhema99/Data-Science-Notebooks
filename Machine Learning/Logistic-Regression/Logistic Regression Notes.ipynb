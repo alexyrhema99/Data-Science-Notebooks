{
 "cells": [
  {
   "cell_type": "markdown",
   "metadata": {},
   "source": [
    "# Logistic Regression Notes"
   ]
  },
  {
   "cell_type": "markdown",
   "metadata": {},
   "source": [
    "### Introduction to Statistical Learning, Section 4"
   ]
  },
  {
   "cell_type": "markdown",
   "metadata": {},
   "source": [
    "### Three most widely-used Classifiers for Qualitative Variables:\n",
    "### β0 = intercept of regression line with y-axis. β1 = slope of the regression line."
   ]
  },
  {
   "cell_type": "markdown",
   "metadata": {},
   "source": [
    "## 1. Logistic Regression \n",
    "### 1. models the probability that Y belongs to a certain variable <br> 2. Page 145 -  increasing X by one unit changes the log odds by β1. <br> 3. β1 is the s-curve equivalent of Linear Regression's slope β1. <br> 4.  However,because the relationship between p(X) and X in (4.2) is not a straight line, β1 does not correspond to the change in p(X) associated with a one-unit increase in X. <br> 5. Estimating the Regression Coefficients:\n",
    "### Maximum Likelihood = we seek estimates for β0 and β1 such that the predicted probability ˆp(xi) of default for each individual, using (4.2), corresponds as closely as possible to the individual’s observed default status\n",
    "### TO READ: PAGE 147 MULTIPLE LOGISTIC REGRESSION\n"
   ]
  },
  {
   "cell_type": "code",
   "execution_count": null,
   "metadata": {},
   "outputs": [],
   "source": []
  },
  {
   "cell_type": "markdown",
   "metadata": {},
   "source": [
    "### 2. Linear Discriminant Analysis\n",
    "### 3. K-Nearest Neighbors"
   ]
  },
  {
   "cell_type": "code",
   "execution_count": null,
   "metadata": {},
   "outputs": [],
   "source": []
  }
 ],
 "metadata": {
  "kernelspec": {
   "display_name": "Python 3",
   "language": "python",
   "name": "python3"
  },
  "language_info": {
   "codemirror_mode": {
    "name": "ipython",
    "version": 3
   },
   "file_extension": ".py",
   "mimetype": "text/x-python",
   "name": "python",
   "nbconvert_exporter": "python",
   "pygments_lexer": "ipython3",
   "version": "3.7.3"
  }
 },
 "nbformat": 4,
 "nbformat_minor": 2
}
