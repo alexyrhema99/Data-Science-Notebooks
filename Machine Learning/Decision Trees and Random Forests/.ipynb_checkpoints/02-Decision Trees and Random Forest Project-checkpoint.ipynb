{
 "cells": [
  {
   "cell_type": "markdown",
   "metadata": {},
   "source": [
    "___\n",
    "\n",
    "<a href='http://www.pieriandata.com'> <img src='../Pierian_Data_Logo.png' /></a>\n",
    "___\n",
    "# Random Forest Project \n",
    "\n",
    "For this project we will be exploring publicly available data from [LendingClub.com](www.lendingclub.com). Lending Club connects people who need money (borrowers) with people who have money (investors). Hopefully, as an investor you would want to invest in people who showed a profile of having a high probability of paying you back. We will try to create a model that will help predict this.\n",
    "\n",
    "Lending club had a [very interesting year in 2016](https://en.wikipedia.org/wiki/Lending_Club#2016), so let's check out some of their data and keep the context in mind. This data is from before they even went public.\n",
    "\n",
    "We will use lending data from 2007-2010 and be trying to classify and predict whether or not the borrower paid back their loan in full. You can download the data from [here](https://www.lendingclub.com/info/download-data.action) or just use the csv already provided. It's recommended you use the csv provided as it has been cleaned of NA values.\n",
    "\n",
    "Here are what the columns represent:\n",
    "* credit.policy: 1 if the customer meets the credit underwriting criteria of LendingClub.com, and 0 otherwise.\n",
    "* purpose: The purpose of the loan (takes values \"credit_card\", \"debt_consolidation\", \"educational\", \"major_purchase\", \"small_business\", and \"all_other\").\n",
    "* int.rate: The interest rate of the loan, as a proportion (a rate of 11% would be stored as 0.11). Borrowers judged by LendingClub.com to be more risky are assigned higher interest rates.\n",
    "* installment: The monthly installments owed by the borrower if the loan is funded.\n",
    "* log.annual.inc: The natural log of the self-reported annual income of the borrower.\n",
    "* dti: The debt-to-income ratio of the borrower (amount of debt divided by annual income).\n",
    "* fico: The FICO credit score of the borrower.\n",
    "* days.with.cr.line: The number of days the borrower has had a credit line.\n",
    "* revol.bal: The borrower's revolving balance (amount unpaid at the end of the credit card billing cycle).\n",
    "* revol.util: The borrower's revolving line utilization rate (the amount of the credit line used relative to total credit available).\n",
    "* inq.last.6mths: The borrower's number of inquiries by creditors in the last 6 months.\n",
    "* delinq.2yrs: The number of times the borrower had been 30+ days past due on a payment in the past 2 years.\n",
    "* pub.rec: The borrower's number of derogatory public records (bankruptcy filings, tax liens, or judgments)."
   ]
  },
  {
   "cell_type": "markdown",
   "metadata": {},
   "source": [
    "# Import Libraries\n",
    "\n",
    "**Import the usual libraries for pandas and plotting. You can import sklearn later on.**"
   ]
  },
  {
   "cell_type": "code",
   "execution_count": 1,
   "metadata": {
    "collapsed": true
   },
   "outputs": [],
   "source": [
    "import pandas as pd\n",
    "import numpy as np\n",
    "import matplotlib.pyplot as plt\n",
    "import seaborn as sns\n",
    "%matplotlib inline"
   ]
  },
  {
   "cell_type": "markdown",
   "metadata": {},
   "source": [
    "## Get the Data\n",
    "\n",
    "** Use pandas to read loan_data.csv as a dataframe called loans.**"
   ]
  },
  {
   "cell_type": "code",
   "execution_count": 2,
   "metadata": {
    "collapsed": true
   },
   "outputs": [],
   "source": [
    "loans = pd.read_csv('loan_data.csv')"
   ]
  },
  {
   "cell_type": "markdown",
   "metadata": {},
   "source": [
    "** Check out the info(), head(), and describe() methods on loans.**"
   ]
  },
  {
   "cell_type": "code",
   "execution_count": 4,
   "metadata": {
    "collapsed": false
   },
   "outputs": [
    {
     "name": "stdout",
     "output_type": "stream",
     "text": [
      "<class 'pandas.core.frame.DataFrame'>\n",
      "RangeIndex: 9578 entries, 0 to 9577\n",
      "Data columns (total 14 columns):\n",
      "credit.policy        9578 non-null int64\n",
      "purpose              9578 non-null object\n",
      "int.rate             9578 non-null float64\n",
      "installment          9578 non-null float64\n",
      "log.annual.inc       9578 non-null float64\n",
      "dti                  9578 non-null float64\n",
      "fico                 9578 non-null int64\n",
      "days.with.cr.line    9578 non-null float64\n",
      "revol.bal            9578 non-null int64\n",
      "revol.util           9578 non-null float64\n",
      "inq.last.6mths       9578 non-null int64\n",
      "delinq.2yrs          9578 non-null int64\n",
      "pub.rec              9578 non-null int64\n",
      "not.fully.paid       9578 non-null int64\n",
      "dtypes: float64(6), int64(7), object(1)\n",
      "memory usage: 1.0+ MB\n"
     ]
    }
   ],
   "source": [
    "loans.info()"
   ]
  },
  {
   "cell_type": "code",
   "execution_count": 5,
   "metadata": {
    "collapsed": false
   },
   "outputs": [
    {
     "data": {
      "text/html": [
       "<div>\n",
       "<style scoped>\n",
       "    .dataframe tbody tr th:only-of-type {\n",
       "        vertical-align: middle;\n",
       "    }\n",
       "\n",
       "    .dataframe tbody tr th {\n",
       "        vertical-align: top;\n",
       "    }\n",
       "\n",
       "    .dataframe thead th {\n",
       "        text-align: right;\n",
       "    }\n",
       "</style>\n",
       "<table border=\"1\" class=\"dataframe\">\n",
       "  <thead>\n",
       "    <tr style=\"text-align: right;\">\n",
       "      <th></th>\n",
       "      <th>credit.policy</th>\n",
       "      <th>purpose</th>\n",
       "      <th>int.rate</th>\n",
       "      <th>installment</th>\n",
       "      <th>log.annual.inc</th>\n",
       "      <th>dti</th>\n",
       "      <th>fico</th>\n",
       "      <th>days.with.cr.line</th>\n",
       "      <th>revol.bal</th>\n",
       "      <th>revol.util</th>\n",
       "      <th>inq.last.6mths</th>\n",
       "      <th>delinq.2yrs</th>\n",
       "      <th>pub.rec</th>\n",
       "      <th>not.fully.paid</th>\n",
       "    </tr>\n",
       "  </thead>\n",
       "  <tbody>\n",
       "    <tr>\n",
       "      <th>0</th>\n",
       "      <td>1</td>\n",
       "      <td>debt_consolidation</td>\n",
       "      <td>0.1189</td>\n",
       "      <td>829.10</td>\n",
       "      <td>11.350407</td>\n",
       "      <td>19.48</td>\n",
       "      <td>737</td>\n",
       "      <td>5639.958333</td>\n",
       "      <td>28854</td>\n",
       "      <td>52.1</td>\n",
       "      <td>0</td>\n",
       "      <td>0</td>\n",
       "      <td>0</td>\n",
       "      <td>0</td>\n",
       "    </tr>\n",
       "    <tr>\n",
       "      <th>1</th>\n",
       "      <td>1</td>\n",
       "      <td>credit_card</td>\n",
       "      <td>0.1071</td>\n",
       "      <td>228.22</td>\n",
       "      <td>11.082143</td>\n",
       "      <td>14.29</td>\n",
       "      <td>707</td>\n",
       "      <td>2760.000000</td>\n",
       "      <td>33623</td>\n",
       "      <td>76.7</td>\n",
       "      <td>0</td>\n",
       "      <td>0</td>\n",
       "      <td>0</td>\n",
       "      <td>0</td>\n",
       "    </tr>\n",
       "    <tr>\n",
       "      <th>2</th>\n",
       "      <td>1</td>\n",
       "      <td>debt_consolidation</td>\n",
       "      <td>0.1357</td>\n",
       "      <td>366.86</td>\n",
       "      <td>10.373491</td>\n",
       "      <td>11.63</td>\n",
       "      <td>682</td>\n",
       "      <td>4710.000000</td>\n",
       "      <td>3511</td>\n",
       "      <td>25.6</td>\n",
       "      <td>1</td>\n",
       "      <td>0</td>\n",
       "      <td>0</td>\n",
       "      <td>0</td>\n",
       "    </tr>\n",
       "    <tr>\n",
       "      <th>3</th>\n",
       "      <td>1</td>\n",
       "      <td>debt_consolidation</td>\n",
       "      <td>0.1008</td>\n",
       "      <td>162.34</td>\n",
       "      <td>11.350407</td>\n",
       "      <td>8.10</td>\n",
       "      <td>712</td>\n",
       "      <td>2699.958333</td>\n",
       "      <td>33667</td>\n",
       "      <td>73.2</td>\n",
       "      <td>1</td>\n",
       "      <td>0</td>\n",
       "      <td>0</td>\n",
       "      <td>0</td>\n",
       "    </tr>\n",
       "    <tr>\n",
       "      <th>4</th>\n",
       "      <td>1</td>\n",
       "      <td>credit_card</td>\n",
       "      <td>0.1426</td>\n",
       "      <td>102.92</td>\n",
       "      <td>11.299732</td>\n",
       "      <td>14.97</td>\n",
       "      <td>667</td>\n",
       "      <td>4066.000000</td>\n",
       "      <td>4740</td>\n",
       "      <td>39.5</td>\n",
       "      <td>0</td>\n",
       "      <td>1</td>\n",
       "      <td>0</td>\n",
       "      <td>0</td>\n",
       "    </tr>\n",
       "  </tbody>\n",
       "</table>\n",
       "</div>"
      ],
      "text/plain": [
       "   credit.policy             purpose  int.rate  installment  log.annual.inc  \\\n",
       "0              1  debt_consolidation    0.1189       829.10       11.350407   \n",
       "1              1         credit_card    0.1071       228.22       11.082143   \n",
       "2              1  debt_consolidation    0.1357       366.86       10.373491   \n",
       "3              1  debt_consolidation    0.1008       162.34       11.350407   \n",
       "4              1         credit_card    0.1426       102.92       11.299732   \n",
       "\n",
       "     dti  fico  days.with.cr.line  revol.bal  revol.util  inq.last.6mths  \\\n",
       "0  19.48   737        5639.958333      28854        52.1               0   \n",
       "1  14.29   707        2760.000000      33623        76.7               0   \n",
       "2  11.63   682        4710.000000       3511        25.6               1   \n",
       "3   8.10   712        2699.958333      33667        73.2               1   \n",
       "4  14.97   667        4066.000000       4740        39.5               0   \n",
       "\n",
       "   delinq.2yrs  pub.rec  not.fully.paid  \n",
       "0            0        0               0  \n",
       "1            0        0               0  \n",
       "2            0        0               0  \n",
       "3            0        0               0  \n",
       "4            1        0               0  "
      ]
     },
     "execution_count": 5,
     "metadata": {},
     "output_type": "execute_result"
    }
   ],
   "source": [
    "loans.head()"
   ]
  },
  {
   "cell_type": "code",
   "execution_count": 6,
   "metadata": {
    "collapsed": false
   },
   "outputs": [
    {
     "data": {
      "text/html": [
       "<div>\n",
       "<style scoped>\n",
       "    .dataframe tbody tr th:only-of-type {\n",
       "        vertical-align: middle;\n",
       "    }\n",
       "\n",
       "    .dataframe tbody tr th {\n",
       "        vertical-align: top;\n",
       "    }\n",
       "\n",
       "    .dataframe thead th {\n",
       "        text-align: right;\n",
       "    }\n",
       "</style>\n",
       "<table border=\"1\" class=\"dataframe\">\n",
       "  <thead>\n",
       "    <tr style=\"text-align: right;\">\n",
       "      <th></th>\n",
       "      <th>credit.policy</th>\n",
       "      <th>int.rate</th>\n",
       "      <th>installment</th>\n",
       "      <th>log.annual.inc</th>\n",
       "      <th>dti</th>\n",
       "      <th>fico</th>\n",
       "      <th>days.with.cr.line</th>\n",
       "      <th>revol.bal</th>\n",
       "      <th>revol.util</th>\n",
       "      <th>inq.last.6mths</th>\n",
       "      <th>delinq.2yrs</th>\n",
       "      <th>pub.rec</th>\n",
       "      <th>not.fully.paid</th>\n",
       "    </tr>\n",
       "  </thead>\n",
       "  <tbody>\n",
       "    <tr>\n",
       "      <th>count</th>\n",
       "      <td>9578.000000</td>\n",
       "      <td>9578.000000</td>\n",
       "      <td>9578.000000</td>\n",
       "      <td>9578.000000</td>\n",
       "      <td>9578.000000</td>\n",
       "      <td>9578.000000</td>\n",
       "      <td>9578.000000</td>\n",
       "      <td>9.578000e+03</td>\n",
       "      <td>9578.000000</td>\n",
       "      <td>9578.000000</td>\n",
       "      <td>9578.000000</td>\n",
       "      <td>9578.000000</td>\n",
       "      <td>9578.000000</td>\n",
       "    </tr>\n",
       "    <tr>\n",
       "      <th>mean</th>\n",
       "      <td>0.804970</td>\n",
       "      <td>0.122640</td>\n",
       "      <td>319.089413</td>\n",
       "      <td>10.932117</td>\n",
       "      <td>12.606679</td>\n",
       "      <td>710.846314</td>\n",
       "      <td>4560.767197</td>\n",
       "      <td>1.691396e+04</td>\n",
       "      <td>46.799236</td>\n",
       "      <td>1.577469</td>\n",
       "      <td>0.163708</td>\n",
       "      <td>0.062122</td>\n",
       "      <td>0.160054</td>\n",
       "    </tr>\n",
       "    <tr>\n",
       "      <th>std</th>\n",
       "      <td>0.396245</td>\n",
       "      <td>0.026847</td>\n",
       "      <td>207.071301</td>\n",
       "      <td>0.614813</td>\n",
       "      <td>6.883970</td>\n",
       "      <td>37.970537</td>\n",
       "      <td>2496.930377</td>\n",
       "      <td>3.375619e+04</td>\n",
       "      <td>29.014417</td>\n",
       "      <td>2.200245</td>\n",
       "      <td>0.546215</td>\n",
       "      <td>0.262126</td>\n",
       "      <td>0.366676</td>\n",
       "    </tr>\n",
       "    <tr>\n",
       "      <th>min</th>\n",
       "      <td>0.000000</td>\n",
       "      <td>0.060000</td>\n",
       "      <td>15.670000</td>\n",
       "      <td>7.547502</td>\n",
       "      <td>0.000000</td>\n",
       "      <td>612.000000</td>\n",
       "      <td>178.958333</td>\n",
       "      <td>0.000000e+00</td>\n",
       "      <td>0.000000</td>\n",
       "      <td>0.000000</td>\n",
       "      <td>0.000000</td>\n",
       "      <td>0.000000</td>\n",
       "      <td>0.000000</td>\n",
       "    </tr>\n",
       "    <tr>\n",
       "      <th>25%</th>\n",
       "      <td>1.000000</td>\n",
       "      <td>0.103900</td>\n",
       "      <td>163.770000</td>\n",
       "      <td>10.558414</td>\n",
       "      <td>7.212500</td>\n",
       "      <td>682.000000</td>\n",
       "      <td>2820.000000</td>\n",
       "      <td>3.187000e+03</td>\n",
       "      <td>22.600000</td>\n",
       "      <td>0.000000</td>\n",
       "      <td>0.000000</td>\n",
       "      <td>0.000000</td>\n",
       "      <td>0.000000</td>\n",
       "    </tr>\n",
       "    <tr>\n",
       "      <th>50%</th>\n",
       "      <td>1.000000</td>\n",
       "      <td>0.122100</td>\n",
       "      <td>268.950000</td>\n",
       "      <td>10.928884</td>\n",
       "      <td>12.665000</td>\n",
       "      <td>707.000000</td>\n",
       "      <td>4139.958333</td>\n",
       "      <td>8.596000e+03</td>\n",
       "      <td>46.300000</td>\n",
       "      <td>1.000000</td>\n",
       "      <td>0.000000</td>\n",
       "      <td>0.000000</td>\n",
       "      <td>0.000000</td>\n",
       "    </tr>\n",
       "    <tr>\n",
       "      <th>75%</th>\n",
       "      <td>1.000000</td>\n",
       "      <td>0.140700</td>\n",
       "      <td>432.762500</td>\n",
       "      <td>11.291293</td>\n",
       "      <td>17.950000</td>\n",
       "      <td>737.000000</td>\n",
       "      <td>5730.000000</td>\n",
       "      <td>1.824950e+04</td>\n",
       "      <td>70.900000</td>\n",
       "      <td>2.000000</td>\n",
       "      <td>0.000000</td>\n",
       "      <td>0.000000</td>\n",
       "      <td>0.000000</td>\n",
       "    </tr>\n",
       "    <tr>\n",
       "      <th>max</th>\n",
       "      <td>1.000000</td>\n",
       "      <td>0.216400</td>\n",
       "      <td>940.140000</td>\n",
       "      <td>14.528354</td>\n",
       "      <td>29.960000</td>\n",
       "      <td>827.000000</td>\n",
       "      <td>17639.958330</td>\n",
       "      <td>1.207359e+06</td>\n",
       "      <td>119.000000</td>\n",
       "      <td>33.000000</td>\n",
       "      <td>13.000000</td>\n",
       "      <td>5.000000</td>\n",
       "      <td>1.000000</td>\n",
       "    </tr>\n",
       "  </tbody>\n",
       "</table>\n",
       "</div>"
      ],
      "text/plain": [
       "       credit.policy     int.rate  installment  log.annual.inc          dti  \\\n",
       "count    9578.000000  9578.000000  9578.000000     9578.000000  9578.000000   \n",
       "mean        0.804970     0.122640   319.089413       10.932117    12.606679   \n",
       "std         0.396245     0.026847   207.071301        0.614813     6.883970   \n",
       "min         0.000000     0.060000    15.670000        7.547502     0.000000   \n",
       "25%         1.000000     0.103900   163.770000       10.558414     7.212500   \n",
       "50%         1.000000     0.122100   268.950000       10.928884    12.665000   \n",
       "75%         1.000000     0.140700   432.762500       11.291293    17.950000   \n",
       "max         1.000000     0.216400   940.140000       14.528354    29.960000   \n",
       "\n",
       "              fico  days.with.cr.line     revol.bal   revol.util  \\\n",
       "count  9578.000000        9578.000000  9.578000e+03  9578.000000   \n",
       "mean    710.846314        4560.767197  1.691396e+04    46.799236   \n",
       "std      37.970537        2496.930377  3.375619e+04    29.014417   \n",
       "min     612.000000         178.958333  0.000000e+00     0.000000   \n",
       "25%     682.000000        2820.000000  3.187000e+03    22.600000   \n",
       "50%     707.000000        4139.958333  8.596000e+03    46.300000   \n",
       "75%     737.000000        5730.000000  1.824950e+04    70.900000   \n",
       "max     827.000000       17639.958330  1.207359e+06   119.000000   \n",
       "\n",
       "       inq.last.6mths  delinq.2yrs      pub.rec  not.fully.paid  \n",
       "count     9578.000000  9578.000000  9578.000000     9578.000000  \n",
       "mean         1.577469     0.163708     0.062122        0.160054  \n",
       "std          2.200245     0.546215     0.262126        0.366676  \n",
       "min          0.000000     0.000000     0.000000        0.000000  \n",
       "25%          0.000000     0.000000     0.000000        0.000000  \n",
       "50%          1.000000     0.000000     0.000000        0.000000  \n",
       "75%          2.000000     0.000000     0.000000        0.000000  \n",
       "max         33.000000    13.000000     5.000000        1.000000  "
      ]
     },
     "execution_count": 6,
     "metadata": {},
     "output_type": "execute_result"
    }
   ],
   "source": [
    "loans.describe()"
   ]
  },
  {
   "cell_type": "markdown",
   "metadata": {},
   "source": [
    "# Exploratory Data Analysis\n",
    "\n",
    "Let's do some data visualization! We'll use seaborn and pandas built-in plotting capabilities, but feel free to use whatever library you want. Don't worry about the colors matching, just worry about getting the main idea of the plot.\n",
    "\n",
    "** Create a histogram of two FICO distributions on top of each other, one for each credit.policy outcome.**\n",
    "\n",
    "*Note: This is pretty tricky, feel free to reference the solutions. You'll probably need one line of code for each histogram, I also recommend just using pandas built in .hist()*"
   ]
  },
  {
   "cell_type": "code",
   "execution_count": 10,
   "metadata": {
    "collapsed": false
   },
   "outputs": [
    {
     "data": {
      "text/plain": [
       "Text(0.5, 0, 'FICO')"
      ]
     },
     "execution_count": 10,
     "metadata": {},
     "output_type": "execute_result"
    },
    {
     "data": {
      "image/png": "[encoded data removed]",
      "text/plain": [
       "<Figure size 720x432 with 1 Axes>"
      ]
     },
     "metadata": {
      "needs_background": "light"
     },
     "output_type": "display_data"
    }
   ],
   "source": [
    "plt.figure(figsize=(10,6))\n",
    "loans[loans['credit.policy']==1]['fico'].hist(alpha=0.5,color='blue',\n",
    "                                              bins=30,label='Credit.Policy=1')\n",
    "loans[loans['credit.policy']==0]['fico'].hist(alpha=0.5,color='red',\n",
    "                                              bins=30,label='Credit.Policy=0')\n",
    "plt.legend()\n",
    "plt.xlabel('FICO')"
   ]
  },
  {
   "cell_type": "markdown",
   "metadata": {},
   "source": [
    "** Create a similar figure, except this time select by the not.fully.paid column.**"
   ]
  },
  {
   "cell_type": "code",
   "execution_count": 11,
   "metadata": {
    "collapsed": false
   },
   "outputs": [
    {
     "data": {
      "text/plain": [
       "Text(0.5, 0, 'FICO')"
      ]
     },
     "execution_count": 11,
     "metadata": {},
     "output_type": "execute_result"
    },
    {
     "data": {
      "image/png": "[encoded data removed]",
      "text/plain": [
       "<Figure size 720x432 with 1 Axes>"
      ]
     },
     "metadata": {
      "needs_background": "light"
     },
     "output_type": "display_data"
    }
   ],
   "source": [
    "plt.figure(figsize=(10,6))\n",
    "loans[loans['not.fully.paid']==1]['fico'].hist(alpha=0.5,color='blue',\n",
    "                                              bins=30,label='not.fully.paid=1')\n",
    "loans[loans['not.fully.paid']==0]['fico'].hist(alpha=0.5,color='red',\n",
    "                                              bins=30,label='not.fully.paid=0')\n",
    "plt.legend()\n",
    "plt.xlabel('FICO')"
   ]
  },
  {
   "cell_type": "markdown",
   "metadata": {},
   "source": [
    "** Create a countplot using seaborn showing the counts of loans by purpose, with the color hue defined by not.fully.paid. **"
   ]
  },
  {
   "cell_type": "code",
   "execution_count": 12,
   "metadata": {
    "collapsed": false
   },
   "outputs": [
    {
     "data": {
      "text/plain": [
       "<matplotlib.axes._subplots.AxesSubplot at 0x241a8fa4da0>"
      ]
     },
     "execution_count": 12,
     "metadata": {},
     "output_type": "execute_result"
    },
    {
     "data": {
      "image/png": "[encoded data removed]",
      "text/plain": [
       "<Figure size 792x504 with 1 Axes>"
      ]
     },
     "metadata": {
      "needs_background": "light"
     },
     "output_type": "display_data"
    }
   ],
   "source": [
    "plt.figure(figsize=(11,7))\n",
    "sns.countplot(x='purpose',hue='not.fully.paid',data=loans,palette='Set1')"
   ]
  },
  {
   "cell_type": "markdown",
   "metadata": {},
   "source": [
    "** Let's see the trend between FICO score and interest rate. Recreate the following jointplot.**"
   ]
  },
  {
   "cell_type": "code",
   "execution_count": 14,
   "metadata": {
    "collapsed": false
   },
   "outputs": [
    {
     "data": {
      "text/plain": [
       "<seaborn.axisgrid.JointGrid at 0x241aa2622e8>"
      ]
     },
     "execution_count": 14,
     "metadata": {},
     "output_type": "execute_result"
    },
    {
     "data": {
      "image/png": "[encoded data removed]",
      "text/plain": [
       "<Figure size 432x432 with 3 Axes>"
      ]
     },
     "metadata": {
      "needs_background": "light"
     },
     "output_type": "display_data"
    }
   ],
   "source": [
    "sns.jointplot(x='fico',y='int.rate',data=loans,color='purple')"
   ]
  },
  {
   "cell_type": "markdown",
   "metadata": {},
   "source": [
    "** Create the following lmplots to see if the trend differed between not.fully.paid and credit.policy. Check the documentation for lmplot() if you can't figure out how to separate it into columns.**"
   ]
  },
  {
   "cell_type": "code",
   "execution_count": 15,
   "metadata": {
    "collapsed": false
   },
   "outputs": [
    {
     "data": {
      "text/plain": [
       "<seaborn.axisgrid.FacetGrid at 0x241aa2623c8>"
      ]
     },
     "execution_count": 15,
     "metadata": {},
     "output_type": "execute_result"
    },
    {
     "data": {
      "text/plain": [
       "<Figure size 792x504 with 0 Axes>"
      ]
     },
     "metadata": {},
     "output_type": "display_data"
    },
    {
     "data": {
      "image/png": "[encoded data removed]",
      "text/plain": [
       "<Figure size 789.5x360 with 2 Axes>"
      ]
     },
     "metadata": {
      "needs_background": "light"
     },
     "output_type": "display_data"
    }
   ],
   "source": [
    "plt.figure(figsize=(11,7))\n",
    "sns.lmplot(y='int.rate',x='fico',data=loans,hue='credit.policy',\n",
    "           col='not.fully.paid',palette='Set1')"
   ]
  },
  {
   "cell_type": "markdown",
   "metadata": {},
   "source": [
    "# Setting up the Data\n",
    "\n",
    "Let's get ready to set up our data for our Random Forest Classification Model!\n",
    "\n",
    "**Check loans.info() again.**"
   ]
  },
  {
   "cell_type": "code",
   "execution_count": 16,
   "metadata": {
    "collapsed": false
   },
   "outputs": [
    {
     "name": "stdout",
     "output_type": "stream",
     "text": [
      "<class 'pandas.core.frame.DataFrame'>\n",
      "RangeIndex: 9578 entries, 0 to 9577\n",
      "Data columns (total 14 columns):\n",
      "credit.policy        9578 non-null int64\n",
      "purpose              9578 non-null object\n",
      "int.rate             9578 non-null float64\n",
      "installment          9578 non-null float64\n",
      "log.annual.inc       9578 non-null float64\n",
      "dti                  9578 non-null float64\n",
      "fico                 9578 non-null int64\n",
      "days.with.cr.line    9578 non-null float64\n",
      "revol.bal            9578 non-null int64\n",
      "revol.util           9578 non-null float64\n",
      "inq.last.6mths       9578 non-null int64\n",
      "delinq.2yrs          9578 non-null int64\n",
      "pub.rec              9578 non-null int64\n",
      "not.fully.paid       9578 non-null int64\n",
      "dtypes: float64(6), int64(7), object(1)\n",
      "memory usage: 1.0+ MB\n"
     ]
    }
   ],
   "source": [
    "loans.info()"
   ]
  },
  {
   "cell_type": "markdown",
   "metadata": {},
   "source": [
    "## Categorical Features\n",
    "\n",
    "Notice that the **purpose** column as categorical\n",
    "\n",
    "That means we need to transform them using dummy variables so sklearn will be able to understand them. Let's do this in one clean step using pd.get_dummies.\n",
    "\n",
    "Let's show you a way of dealing with these columns that can be expanded to multiple categorical features if necessary.\n",
    "\n",
    "**Create a list of 1 element containing the string 'purpose'. Call this list cat_feats.**"
   ]
  },
  {
   "cell_type": "code",
   "execution_count": 17,
   "metadata": {
    "collapsed": true
   },
   "outputs": [],
   "source": [
    "cat_feats = ['purpose']"
   ]
  },
  {
   "cell_type": "markdown",
   "metadata": {},
   "source": [
    "**Now use pd.get_dummies(loans,columns=cat_feats,drop_first=True) to create a fixed larger dataframe that has new feature columns with dummy variables. Set this dataframe as final_data.**"
   ]
  },
  {
   "cell_type": "code",
   "execution_count": 18,
   "metadata": {
    "collapsed": false
   },
   "outputs": [],
   "source": [
    "final_data = pd.get_dummies(loans,columns=cat_feats,drop_first=True)"
   ]
  },
  {
   "cell_type": "code",
   "execution_count": 19,
   "metadata": {
    "collapsed": false
   },
   "outputs": [
    {
     "name": "stdout",
     "output_type": "stream",
     "text": [
      "<class 'pandas.core.frame.DataFrame'>\n",
      "RangeIndex: 9578 entries, 0 to 9577\n",
      "Data columns (total 19 columns):\n",
      "credit.policy                 9578 non-null int64\n",
      "int.rate                      9578 non-null float64\n",
      "installment                   9578 non-null float64\n",
      "log.annual.inc                9578 non-null float64\n",
      "dti                           9578 non-null float64\n",
      "fico                          9578 non-null int64\n",
      "days.with.cr.line             9578 non-null float64\n",
      "revol.bal                     9578 non-null int64\n",
      "revol.util                    9578 non-null float64\n",
      "inq.last.6mths                9578 non-null int64\n",
      "delinq.2yrs                   9578 non-null int64\n",
      "pub.rec                       9578 non-null int64\n",
      "not.fully.paid                9578 non-null int64\n",
      "purpose_credit_card           9578 non-null uint8\n",
      "purpose_debt_consolidation    9578 non-null uint8\n",
      "purpose_educational           9578 non-null uint8\n",
      "purpose_home_improvement      9578 non-null uint8\n",
      "purpose_major_purchase        9578 non-null uint8\n",
      "purpose_small_business        9578 non-null uint8\n",
      "dtypes: float64(6), int64(7), uint8(6)\n",
      "memory usage: 1.0 MB\n"
     ]
    }
   ],
   "source": [
    "final_data.info()"
   ]
  },
  {
   "cell_type": "markdown",
   "metadata": {},
   "source": [
    "## Train Test Split\n",
    "\n",
    "Now its time to split our data into a training set and a testing set!\n",
    "\n",
    "** Use sklearn to split your data into a training set and a testing set as we've done in the past.**"
   ]
  },
  {
   "cell_type": "code",
   "execution_count": 21,
   "metadata": {
    "collapsed": true
   },
   "outputs": [],
   "source": [
    "from sklearn.model_selection import train_test_split"
   ]
  },
  {
   "cell_type": "code",
   "execution_count": 22,
   "metadata": {
    "collapsed": true
   },
   "outputs": [],
   "source": [
    "X = final_data.drop('not.fully.paid',axis=1)\n",
    "y = final_data['not.fully.paid']\n",
    "\n",
    "X_train, X_test, y_train, y_test = train_test_split(X, y, test_size=0.30, random_state=101)"
   ]
  },
  {
   "cell_type": "markdown",
   "metadata": {},
   "source": [
    "## Training a Decision Tree Model\n",
    "\n",
    "Let's start by training a single decision tree first!\n",
    "\n",
    "** Import DecisionTreeClassifier**"
   ]
  },
  {
   "cell_type": "code",
   "execution_count": 23,
   "metadata": {
    "collapsed": true
   },
   "outputs": [],
   "source": [
    "from sklearn.tree import DecisionTreeClassifier"
   ]
  },
  {
   "cell_type": "markdown",
   "metadata": {},
   "source": [
    "**Create an instance of DecisionTreeClassifier() called dtree and fit it to the training data.**"
   ]
  },
  {
   "cell_type": "code",
   "execution_count": 25,
   "metadata": {
    "collapsed": true
   },
   "outputs": [],
   "source": [
    "dtree = DecisionTreeClassifier()"
   ]
  },
  {
   "cell_type": "code",
   "execution_count": 26,
   "metadata": {
    "collapsed": false
   },
   "outputs": [
    {
     "data": {
      "text/plain": [
       "DecisionTreeClassifier(class_weight=None, criterion='gini', max_depth=None,\n",
       "                       max_features=None, max_leaf_nodes=None,\n",
       "                       min_impurity_decrease=0.0, min_impurity_split=None,\n",
       "                       min_samples_leaf=1, min_samples_split=2,\n",
       "                       min_weight_fraction_leaf=0.0, presort=False,\n",
       "                       random_state=None, splitter='best')"
      ]
     },
     "execution_count": 26,
     "metadata": {},
     "output_type": "execute_result"
    }
   ],
   "source": [
    "dtree.fit(X_train,y_train)"
   ]
  },
  {
   "cell_type": "markdown",
   "metadata": {},
   "source": [
    "## Predictions and Evaluation of Decision Tree\n",
    "**Create predictions from the test set and create a classification report and a confusion matrix.**"
   ]
  },
  {
   "cell_type": "code",
   "execution_count": 27,
   "metadata": {
    "collapsed": true
   },
   "outputs": [],
   "source": [
    "predictions = dtree.predict(X_test)"
   ]
  },
  {
   "cell_type": "code",
   "execution_count": 28,
   "metadata": {
    "collapsed": true
   },
   "outputs": [],
   "source": [
    "from sklearn.metrics import classification_report,confusion_matrix"
   ]
  },
  {
   "cell_type": "code",
   "execution_count": 29,
   "metadata": {
    "collapsed": false
   },
   "outputs": [
    {
     "name": "stdout",
     "output_type": "stream",
     "text": [
      "              precision    recall  f1-score   support\n",
      "\n",
      "           0       0.85      0.82      0.84      2431\n",
      "           1       0.19      0.23      0.21       443\n",
      "\n",
      "    accuracy                           0.73      2874\n",
      "   macro avg       0.52      0.53      0.52      2874\n",
      "weighted avg       0.75      0.73      0.74      2874\n",
      "\n"
     ]
    }
   ],
   "source": [
    "print(classification_report(y_test,predictions))"
   ]
  },
  {
   "cell_type": "code",
   "execution_count": 30,
   "metadata": {
    "collapsed": false
   },
   "outputs": [
    {
     "name": "stdout",
     "output_type": "stream",
     "text": [
      "[[1996  435]\n",
      " [ 339  104]]\n"
     ]
    }
   ],
   "source": [
    "print(confusion_matrix(y_test,predictions))"
   ]
  },
  {
   "cell_type": "markdown",
   "metadata": {},
   "source": [
    "## Training the Random Forest model\n",
    "\n",
    "Now its time to train our model!\n",
    "\n",
    "**Create an instance of the RandomForestClassifier class and fit it to our training data from the previous step.**"
   ]
  },
  {
   "cell_type": "code",
   "execution_count": 31,
   "metadata": {
    "collapsed": true
   },
   "outputs": [],
   "source": [
    "from sklearn.ensemble import RandomForestClassifier"
   ]
  },
  {
   "cell_type": "code",
   "execution_count": 35,
   "metadata": {},
   "outputs": [],
   "source": [
    "rfc = RandomForestClassifier(n_estimators=600)"
   ]
  },
  {
   "cell_type": "code",
   "execution_count": 36,
   "metadata": {
    "collapsed": false
   },
   "outputs": [
    {
     "data": {
      "text/plain": [
       "RandomForestClassifier(bootstrap=True, class_weight=None, criterion='gini',\n",
       "                       max_depth=None, max_features='auto', max_leaf_nodes=None,\n",
       "                       min_impurity_decrease=0.0, min_impurity_split=None,\n",
       "                       min_samples_leaf=1, min_samples_split=2,\n",
       "                       min_weight_fraction_leaf=0.0, n_estimators=600,\n",
       "                       n_jobs=None, oob_score=False, random_state=None,\n",
       "                       verbose=0, warm_start=False)"
      ]
     },
     "execution_count": 36,
     "metadata": {},
     "output_type": "execute_result"
    }
   ],
   "source": [
    "rfc.fit(X_train,y_train)"
   ]
  },
  {
   "cell_type": "markdown",
   "metadata": {},
   "source": [
    "## Predictions and Evaluation\n",
    "\n",
    "Let's predict off the y_test values and evaluate our model.\n",
    "\n",
    "** Predict the class of not.fully.paid for the X_test data.**"
   ]
  },
  {
   "cell_type": "code",
   "execution_count": 46,
   "metadata": {
    "collapsed": false
   },
   "outputs": [],
   "source": [
    "predictions = rfc.predict(X_test)"
   ]
  },
  {
   "cell_type": "markdown",
   "metadata": {},
   "source": [
    "**Now create a classification report from the results. Do you get anything strange or some sort of warning?**"
   ]
  },
  {
   "cell_type": "code",
   "execution_count": 47,
   "metadata": {
    "collapsed": true
   },
   "outputs": [],
   "source": [
    "from sklearn.metrics import classification_report,confusion_matrix"
   ]
  },
  {
   "cell_type": "code",
   "execution_count": 48,
   "metadata": {},
   "outputs": [
    {
     "data": {
      "text/plain": [
       "(2874,)"
      ]
     },
     "execution_count": 48,
     "metadata": {},
     "output_type": "execute_result"
    }
   ],
   "source": [
    "predictions.shape"
   ]
  },
  {
   "cell_type": "code",
   "execution_count": 49,
   "metadata": {
    "collapsed": false
   },
   "outputs": [
    {
     "name": "stdout",
     "output_type": "stream",
     "text": [
      "              precision    recall  f1-score   support\n",
      "\n",
      "           0       0.85      1.00      0.92      2431\n",
      "           1       0.59      0.02      0.04       443\n",
      "\n",
      "    accuracy                           0.85      2874\n",
      "   macro avg       0.72      0.51      0.48      2874\n",
      "weighted avg       0.81      0.85      0.78      2874\n",
      "\n"
     ]
    }
   ],
   "source": [
    "print(classification_report(y_test,predictions))"
   ]
  },
  {
   "cell_type": "markdown",
   "metadata": {},
   "source": [
    "**Show the Confusion Matrix for the predictions.**"
   ]
  },
  {
   "cell_type": "code",
   "execution_count": 50,
   "metadata": {
    "collapsed": false
   },
   "outputs": [
    {
     "name": "stdout",
     "output_type": "stream",
     "text": [
      "[[2424    7]\n",
      " [ 433   10]]\n"
     ]
    }
   ],
   "source": [
    "print(confusion_matrix(y_test,predictions))"
   ]
  },
  {
   "cell_type": "markdown",
   "metadata": {},
   "source": [
    "**What performed better the random forest or the decision tree?**"
   ]
  },
  {
   "cell_type": "code",
   "execution_count": 36,
   "metadata": {
    "collapsed": true
   },
   "outputs": [],
   "source": []
  },
  {
   "cell_type": "markdown",
   "metadata": {},
   "source": [
    "# Great Job!"
   ]
  }
 ],
 "metadata": {
  "kernelspec": {
   "display_name": "Python 3",
   "language": "python",
   "name": "python3"
  },
  "language_info": {
   "codemirror_mode": {
    "name": "ipython",
    "version": 3
   },
   "file_extension": ".py",
   "mimetype": "text/x-python",
   "name": "python",
   "nbconvert_exporter": "python",
   "pygments_lexer": "ipython3",
   "version": "3.7.3"
  }
 },
 "nbformat": 4,
 "nbformat_minor": 2
}
