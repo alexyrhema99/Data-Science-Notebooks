{
 "cells": [
  {
   "cell_type": "markdown",
   "metadata": {},
   "source": [
    "# Reading in NSDUH data using pyspark"
   ]
  },
  {
   "cell_type": "code",
   "execution_count": null,
   "metadata": {},
   "outputs": [],
   "source": [
    "from pyspark.sql import SparkSession\n",
    "import pandas as pd\n",
    "import numpy as np"
   ]
  },
  {
   "cell_type": "code",
   "execution_count": null,
   "metadata": {},
   "outputs": [],
   "source": [
    "# Create sparksession\n",
    "spark = SparkSession \\\n",
    "    .builder \\\n",
    "    .appName(\"Pysparkexample\") \\\n",
    "    .config(\"spark.some.config.option\",\"some-value\") \\\n",
    "    .getOrCreate()"
   ]
  },
  {
   "cell_type": "markdown",
   "metadata": {},
   "source": [
    "### Read in NSDUH data sets from years 2015-2017"
   ]
  },
  {
   "cell_type": "code",
   "execution_count": null,
   "metadata": {},
   "outputs": [],
   "source": [
    "path = r'C:\\MyFiles\\OneDrive\\Projects\\NSDUH\\Data'\n",
    "n2015 = spark.read.option(\"delimiter\", \"\\t\").csv(r'{}\\NSDUH_2015_Tab.tsv'.format(path),header='true',inferSchema=True)\n",
    "n2015.createOrReplaceTempView('n2015')\n",
    "i15 = spark.sql('''SELECT INCOME FROM n2015''')\n",
    "\n",
    "n2016 = spark.read.option(\"delimiter\", \"\\t\").csv(r'{}\\NSDUH_2016_Tab.tsv'.format(path),header='true',inferSchema=True)\n",
    "n2016.createOrReplaceTempView('n2016')\n",
    "i16 = spark.sql('''SELECT INCOME FROM n2016''')\n",
    "\n",
    "n2017 = spark.read.option(\"delimiter\", \"\\t\").csv(r'{}\\NSDUH_2017_Tab.tsv'.format(path),header='true',inferSchema=True)\n",
    "n2017.createOrReplaceTempView('n2017')\n",
    "i17 = spark.sql('''SELECT INCOME FROM n2017''')\n",
    "\n",
    "df = i15.union(i16).union(i17)"
   ]
  },
  {
   "cell_type": "code",
   "execution_count": null,
   "metadata": {},
   "outputs": [],
   "source": [
    "print('The total number of rows is:', df.count(), '\\nThe total number of columns is:', len(df.columns))"
   ]
  },
  {
   "cell_type": "code",
   "execution_count": null,
   "metadata": {},
   "outputs": [],
   "source": [
    "df.createOrReplaceTempView('nsduh')"
   ]
  },
  {
   "cell_type": "code",
   "execution_count": null,
   "metadata": {},
   "outputs": [],
   "source": [
    "spark.sql(\n",
    "'''\n",
    "SELECT INCOME,COUNT(INCOME) FROM nsduh \n",
    "GROUP BY INCOME \n",
    "ORDER BY INCOME\n",
    "'''\n",
    ").show()"
   ]
  },
  {
   "cell_type": "code",
   "execution_count": null,
   "metadata": {},
   "outputs": [],
   "source": []
  }
 ],
 "metadata": {
  "kernelspec": {
   "display_name": "Python 3",
   "language": "python",
   "name": "python3"
  },
  "language_info": {
   "codemirror_mode": {
    "name": "ipython",
    "version": 3
   },
   "file_extension": ".py",
   "mimetype": "text/x-python",
   "name": "python",
   "nbconvert_exporter": "python",
   "pygments_lexer": "ipython3",
   "version": "3.7.4"
  }
 },
 "nbformat": 4,
 "nbformat_minor": 2
}
